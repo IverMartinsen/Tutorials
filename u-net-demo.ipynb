{
 "cells": [
  {
   "cell_type": "code",
   "execution_count": null,
   "metadata": {},
   "outputs": [],
   "source": [
    "import numpy as np\n",
    "import os\n",
    "\n",
    "os.chdir('/Users/ima029/Library/CloudStorage/OneDrive-UiTOffice365/Arkiverte prosjekter/Emner ved UiT/FYS-3033 Deep Learning/DL home exam')\n",
    "\n",
    "from src.problem2.DataLoaders.camvid_loader import load_camvid\n",
    "\n",
    "import tensorflow as tf"
   ]
  },
  {
   "cell_type": "code",
   "execution_count": 44,
   "metadata": {},
   "outputs": [],
   "source": [
    "\n",
    "\n",
    "x_tr, y_tr, x_te, y_te, _ = load_camvid('/Users/ima029/Library/CloudStorage/OneDrive-UiTOffice365/Arkiverte prosjekter/Emner ved UiT/FYS-3033 Deep Learning/DL home exam/Problem 2/data/')\n",
    "\n",
    "x_tr = tf.image.resize(np.moveaxis(x_tr, 1, -1), (184, 240))\n",
    "y_tr = tf.math.round(tf.image.resize(np.moveaxis(y_tr, 1, -1), (184, 240)))\n",
    "x_te = tf.image.resize(np.moveaxis(x_te, 1, -1), (184, 240))\n",
    "y_te = tf.math.round(tf.image.resize(np.moveaxis(y_te, 1, -1), (184, 240)))\n",
    "\n",
    "num_classes = len(np.unique(y_tr))\n"
   ]
  },
  {
   "cell_type": "code",
   "execution_count": 45,
   "metadata": {},
   "outputs": [],
   "source": [
    "inputs = tf.keras.layers.Input(shape=x_tr.shape[1:])\n",
    "\n",
    "x = tf.keras.layers.Conv2D(16, 3, padding='same', activation='relu')(inputs)\n",
    "x = tf.keras.layers.Conv2D(16, 3, padding='same', activation='relu')(x)\n",
    "concat3 = tf.keras.layers.BatchNormalization()(x)\n",
    "x = tf.keras.layers.MaxPool2D()(concat3)\n",
    "\n",
    "x = tf.keras.layers.Conv2D(32, 3, padding='same', activation='relu')(x)\n",
    "x = tf.keras.layers.Conv2D(32, 3, padding='same', activation='relu')(x)\n",
    "concat2 = tf.keras.layers.BatchNormalization()(x)\n",
    "x = tf.keras.layers.MaxPool2D()(concat2)\n",
    "\n",
    "x = tf.keras.layers.Conv2D(64, 3, padding='same', activation='relu')(x)\n",
    "x = tf.keras.layers.Conv2D(64, 3, padding='same', activation='relu')(x)\n",
    "concat1 = tf.keras.layers.BatchNormalization()(x)\n",
    "x = tf.keras.layers.MaxPool2D()(concat1)\n",
    "\n",
    "x = tf.keras.layers.Conv2D(128, 3, padding='same', activation='relu')(x)\n",
    "x = tf.keras.layers.Conv2D(128, 3, padding='same', activation='relu')(x)\n",
    "x = tf.keras.layers.BatchNormalization()(x)\n",
    "\n",
    "x = tf.keras.layers.UpSampling2D()(x)\n",
    "x = tf.keras.layers.Conv2D(64, 3, padding='same', activation='relu')(x)\n",
    "x = tf.keras.layers.Concatenate()([concat1, x])\n",
    "\n",
    "x = tf.keras.layers.Conv2D(64, 3, padding='same', activation='relu')(x)\n",
    "x = tf.keras.layers.Conv2D(64, 3, padding='same', activation='relu')(x)\n",
    "x = tf.keras.layers.BatchNormalization()(x)\n",
    "\n",
    "x = tf.keras.layers.UpSampling2D()(x)\n",
    "x = tf.keras.layers.Conv2D(32, 3, padding='same', activation='relu')(x)\n",
    "x = tf.keras.layers.Concatenate()([concat2, x])\n",
    "\n",
    "x = tf.keras.layers.Conv2D(32, 3, padding='same', activation='relu')(x)\n",
    "x = tf.keras.layers.Conv2D(32, 3, padding='same', activation='relu')(x)\n",
    "x = tf.keras.layers.BatchNormalization()(x)\n",
    "\n",
    "x = tf.keras.layers.UpSampling2D()(x)\n",
    "x = tf.keras.layers.Conv2D(16, 3, padding='same', activation='relu')(x)\n",
    "x = tf.keras.layers.Concatenate()([concat3, x])\n",
    "\n",
    "x = tf.keras.layers.Conv2D(16, 3, padding='same', activation='relu')(x)\n",
    "x = tf.keras.layers.Conv2D(16, 3, padding='same', activation='relu')(x)\n",
    "x = tf.keras.layers.BatchNormalization()(x)\n",
    "\n",
    "x = tf.keras.layers.Conv2D(num_classes, 1)(x)\n",
    "output = tf.keras.layers.Softmax()(x)\n",
    "\n",
    "model = tf.keras.Model(inputs, output)"
   ]
  },
  {
   "cell_type": "code",
   "execution_count": 63,
   "metadata": {},
   "outputs": [
    {
     "name": "stdout",
     "output_type": "stream",
     "text": [
      "Epoch 1/100\n"
     ]
    },
    {
     "name": "stderr",
     "output_type": "stream",
     "text": [
      "2022-06-13 15:55:31.441605: I tensorflow/core/grappler/optimizers/custom_graph_optimizer_registry.cc:112] Plugin optimizer for device_type GPU is enabled.\n"
     ]
    },
    {
     "name": "stdout",
     "output_type": "stream",
     "text": [
      "15/15 [==============================] - 8s 429ms/step - loss: 0.7953\n",
      "Epoch 2/100\n",
      "15/15 [==============================] - 6s 386ms/step - loss: 0.6978\n",
      "Epoch 3/100\n",
      "15/15 [==============================] - 6s 431ms/step - loss: 0.6479\n",
      "Epoch 4/100\n",
      "15/15 [==============================] - 6s 387ms/step - loss: 0.6212\n",
      "Epoch 5/100\n",
      "15/15 [==============================] - 6s 381ms/step - loss: 0.5977\n",
      "Epoch 6/100\n",
      "15/15 [==============================] - 6s 381ms/step - loss: 0.6004\n",
      "Epoch 7/100\n",
      "15/15 [==============================] - 6s 382ms/step - loss: 0.6100\n",
      "Epoch 8/100\n",
      "15/15 [==============================] - 6s 384ms/step - loss: 0.5772\n",
      "Epoch 9/100\n",
      "15/15 [==============================] - 6s 384ms/step - loss: 0.5513\n",
      "Epoch 10/100\n",
      "15/15 [==============================] - 6s 382ms/step - loss: 0.5438\n",
      "Epoch 11/100\n",
      "15/15 [==============================] - 6s 382ms/step - loss: 0.5281\n",
      "Epoch 12/100\n",
      "15/15 [==============================] - 6s 380ms/step - loss: 0.5114\n",
      "Epoch 13/100\n",
      "15/15 [==============================] - 6s 382ms/step - loss: 0.4967\n",
      "Epoch 14/100\n",
      "15/15 [==============================] - 6s 380ms/step - loss: 0.4893\n",
      "Epoch 15/100\n",
      "15/15 [==============================] - 6s 384ms/step - loss: 0.4886\n",
      "Epoch 16/100\n",
      "15/15 [==============================] - 6s 389ms/step - loss: 0.4700\n",
      "Epoch 17/100\n",
      "15/15 [==============================] - 6s 384ms/step - loss: 0.4567\n",
      "Epoch 18/100\n",
      "15/15 [==============================] - 6s 420ms/step - loss: 0.4458\n",
      "Epoch 19/100\n",
      "15/15 [==============================] - 6s 390ms/step - loss: 0.4371\n",
      "Epoch 20/100\n",
      "15/15 [==============================] - 6s 391ms/step - loss: 0.4348\n",
      "Epoch 21/100\n",
      "15/15 [==============================] - 6s 395ms/step - loss: 0.4255\n",
      "Epoch 22/100\n",
      "15/15 [==============================] - 6s 384ms/step - loss: 0.4189\n",
      "Epoch 23/100\n",
      "15/15 [==============================] - 6s 384ms/step - loss: 0.4094\n",
      "Epoch 24/100\n",
      "15/15 [==============================] - 6s 384ms/step - loss: 0.4129\n",
      "Epoch 25/100\n",
      "15/15 [==============================] - 6s 384ms/step - loss: 0.4066\n",
      "Epoch 26/100\n",
      "15/15 [==============================] - 6s 382ms/step - loss: 0.3985\n",
      "Epoch 27/100\n",
      "15/15 [==============================] - 6s 382ms/step - loss: 0.3912\n",
      "Epoch 28/100\n",
      "15/15 [==============================] - 6s 381ms/step - loss: 0.3812\n",
      "Epoch 29/100\n",
      "15/15 [==============================] - 6s 384ms/step - loss: 0.3705\n",
      "Epoch 30/100\n",
      "15/15 [==============================] - 6s 383ms/step - loss: 0.3637\n",
      "Epoch 31/100\n",
      "15/15 [==============================] - 6s 383ms/step - loss: 0.3609\n",
      "Epoch 32/100\n",
      "15/15 [==============================] - 6s 382ms/step - loss: 0.3635\n",
      "Epoch 33/100\n",
      "15/15 [==============================] - 6s 384ms/step - loss: 0.3731\n",
      "Epoch 34/100\n",
      "15/15 [==============================] - 6s 381ms/step - loss: 0.3714\n",
      "Epoch 35/100\n",
      "15/15 [==============================] - 6s 384ms/step - loss: 0.3648\n",
      "Epoch 36/100\n",
      "15/15 [==============================] - 6s 383ms/step - loss: 0.3591\n",
      "Epoch 37/100\n",
      "15/15 [==============================] - 6s 385ms/step - loss: 0.3506\n",
      "Epoch 38/100\n",
      "15/15 [==============================] - 6s 383ms/step - loss: 0.3508\n",
      "Epoch 39/100\n",
      "15/15 [==============================] - 6s 385ms/step - loss: 0.3455\n",
      "Epoch 40/100\n",
      "15/15 [==============================] - 6s 383ms/step - loss: 0.3396\n",
      "Epoch 41/100\n",
      "15/15 [==============================] - 6s 385ms/step - loss: 0.3381\n",
      "Epoch 42/100\n",
      "15/15 [==============================] - 6s 389ms/step - loss: 0.3357\n",
      "Epoch 43/100\n",
      "15/15 [==============================] - 6s 390ms/step - loss: 0.3342\n",
      "Epoch 44/100\n",
      "15/15 [==============================] - 6s 387ms/step - loss: 0.3318\n",
      "Epoch 45/100\n",
      "15/15 [==============================] - 6s 387ms/step - loss: 0.3228\n",
      "Epoch 46/100\n",
      "15/15 [==============================] - 6s 388ms/step - loss: 0.3206\n",
      "Epoch 47/100\n",
      "15/15 [==============================] - 6s 384ms/step - loss: 0.3148\n",
      "Epoch 48/100\n",
      "15/15 [==============================] - 6s 406ms/step - loss: 0.3138\n",
      "Epoch 49/100\n",
      "15/15 [==============================] - 6s 383ms/step - loss: 0.3124\n",
      "Epoch 50/100\n",
      "15/15 [==============================] - 6s 387ms/step - loss: 0.3140\n",
      "Epoch 51/100\n",
      "15/15 [==============================] - 6s 383ms/step - loss: 0.3103\n",
      "Epoch 52/100\n",
      "15/15 [==============================] - 6s 384ms/step - loss: 0.3092\n",
      "Epoch 53/100\n",
      "15/15 [==============================] - 6s 384ms/step - loss: 0.3073\n",
      "Epoch 54/100\n",
      "15/15 [==============================] - 6s 382ms/step - loss: 0.3111\n",
      "Epoch 55/100\n",
      "15/15 [==============================] - 6s 384ms/step - loss: 0.3068\n",
      "Epoch 56/100\n",
      "15/15 [==============================] - 6s 384ms/step - loss: 0.3083\n",
      "Epoch 57/100\n",
      "15/15 [==============================] - 6s 378ms/step - loss: 0.3017\n",
      "Epoch 58/100\n",
      "15/15 [==============================] - 6s 381ms/step - loss: 0.2990\n",
      "Epoch 59/100\n",
      "15/15 [==============================] - 6s 382ms/step - loss: 0.2953\n",
      "Epoch 60/100\n",
      "15/15 [==============================] - 6s 381ms/step - loss: 0.2913\n",
      "Epoch 61/100\n",
      "15/15 [==============================] - 6s 379ms/step - loss: 0.2914\n",
      "Epoch 62/100\n",
      "15/15 [==============================] - 6s 380ms/step - loss: 0.2923\n",
      "Epoch 63/100\n",
      "15/15 [==============================] - 6s 379ms/step - loss: 0.2851\n",
      "Epoch 64/100\n",
      "15/15 [==============================] - 6s 378ms/step - loss: 0.2885\n",
      "Epoch 65/100\n",
      "15/15 [==============================] - 6s 382ms/step - loss: 0.2921\n",
      "Epoch 66/100\n",
      "15/15 [==============================] - 6s 380ms/step - loss: 0.2900\n",
      "Epoch 67/100\n",
      "15/15 [==============================] - 6s 379ms/step - loss: 0.2839\n",
      "Epoch 68/100\n",
      "15/15 [==============================] - 6s 377ms/step - loss: 0.2884\n",
      "Epoch 69/100\n",
      "15/15 [==============================] - 6s 376ms/step - loss: 0.2841\n",
      "Epoch 70/100\n",
      "15/15 [==============================] - 6s 379ms/step - loss: 0.2823\n",
      "Epoch 71/100\n",
      "15/15 [==============================] - 6s 386ms/step - loss: 0.2766\n",
      "Epoch 72/100\n",
      "15/15 [==============================] - 6s 387ms/step - loss: 0.2747\n",
      "Epoch 73/100\n",
      "15/15 [==============================] - 6s 384ms/step - loss: 0.2780\n",
      "Epoch 74/100\n",
      "15/15 [==============================] - 6s 389ms/step - loss: 0.2900\n",
      "Epoch 75/100\n",
      "15/15 [==============================] - 6s 388ms/step - loss: 0.3467\n",
      "Epoch 76/100\n",
      "15/15 [==============================] - 6s 388ms/step - loss: 0.3805\n",
      "Epoch 77/100\n",
      "15/15 [==============================] - 6s 389ms/step - loss: 0.3406\n",
      "Epoch 78/100\n",
      "15/15 [==============================] - 6s 384ms/step - loss: 0.3142\n",
      "Epoch 79/100\n",
      "15/15 [==============================] - 6s 385ms/step - loss: 0.2981\n",
      "Epoch 80/100\n",
      "15/15 [==============================] - 6s 392ms/step - loss: 0.2874\n",
      "Epoch 81/100\n",
      "15/15 [==============================] - 6s 393ms/step - loss: 0.2784\n",
      "Epoch 82/100\n",
      "15/15 [==============================] - 6s 386ms/step - loss: 0.2733\n",
      "Epoch 83/100\n",
      "15/15 [==============================] - 6s 387ms/step - loss: 0.2712\n",
      "Epoch 84/100\n",
      "15/15 [==============================] - 6s 387ms/step - loss: 0.2719\n",
      "Epoch 85/100\n",
      "15/15 [==============================] - 6s 385ms/step - loss: 0.2660\n",
      "Epoch 86/100\n",
      "15/15 [==============================] - 6s 385ms/step - loss: 0.2698\n",
      "Epoch 87/100\n",
      "15/15 [==============================] - 6s 385ms/step - loss: 0.2672\n",
      "Epoch 88/100\n",
      "15/15 [==============================] - 6s 387ms/step - loss: 0.2668\n",
      "Epoch 89/100\n",
      "15/15 [==============================] - 6s 388ms/step - loss: 0.2601\n",
      "Epoch 90/100\n",
      "15/15 [==============================] - 6s 385ms/step - loss: 0.2619\n",
      "Epoch 91/100\n",
      "15/15 [==============================] - 6s 385ms/step - loss: 0.2582\n",
      "Epoch 92/100\n",
      "15/15 [==============================] - 6s 377ms/step - loss: 0.2559\n",
      "Epoch 93/100\n",
      "15/15 [==============================] - 6s 379ms/step - loss: 0.2515\n",
      "Epoch 94/100\n",
      "15/15 [==============================] - 6s 380ms/step - loss: 0.2522\n",
      "Epoch 95/100\n",
      "15/15 [==============================] - 6s 380ms/step - loss: 0.2550\n",
      "Epoch 96/100\n",
      "15/15 [==============================] - 6s 378ms/step - loss: 0.2624\n",
      "Epoch 97/100\n",
      "15/15 [==============================] - 6s 378ms/step - loss: 0.2637\n",
      "Epoch 98/100\n",
      "15/15 [==============================] - 6s 378ms/step - loss: 0.2569\n",
      "Epoch 99/100\n",
      "15/15 [==============================] - 6s 378ms/step - loss: 0.2519\n",
      "Epoch 100/100\n",
      "15/15 [==============================] - 6s 379ms/step - loss: 0.2544\n"
     ]
    },
    {
     "data": {
      "text/plain": [
       "<keras.callbacks.History at 0x29abf3370>"
      ]
     },
     "execution_count": 63,
     "metadata": {},
     "output_type": "execute_result"
    }
   ],
   "source": [
    "\n",
    "model.compile(optimizer='adam', loss=tf.keras.losses.SparseCategoricalCrossentropy())\n",
    "model.fit(x_tr, y_tr, batch_size=32, epochs=100)\n"
   ]
  },
  {
   "cell_type": "code",
   "execution_count": 64,
   "metadata": {},
   "outputs": [
    {
     "name": "stderr",
     "output_type": "stream",
     "text": [
      "2022-06-13 17:13:33.706158: I tensorflow/core/grappler/optimizers/custom_graph_optimizer_registry.cc:112] Plugin optimizer for device_type GPU is enabled.\n"
     ]
    },
    {
     "name": "stdout",
     "output_type": "stream",
     "text": [
      "8/8 [==============================] - 2s 142ms/step - loss: 0.6186\n"
     ]
    },
    {
     "data": {
      "text/plain": [
       "0.6185869574546814"
      ]
     },
     "execution_count": 64,
     "metadata": {},
     "output_type": "execute_result"
    }
   ],
   "source": [
    "model.evaluate(x_te, y_te)"
   ]
  },
  {
   "cell_type": "code",
   "execution_count": 65,
   "metadata": {},
   "outputs": [
    {
     "name": "stderr",
     "output_type": "stream",
     "text": [
      "2022-06-13 17:13:41.270613: I tensorflow/core/grappler/optimizers/custom_graph_optimizer_registry.cc:112] Plugin optimizer for device_type GPU is enabled.\n"
     ]
    },
    {
     "data": {
      "text/plain": [
       "<matplotlib.image.AxesImage at 0x2b8ff3910>"
      ]
     },
     "execution_count": 65,
     "metadata": {},
     "output_type": "execute_result"
    },
    {
     "data": {
      "image/png": "[encoded data removed]",
      "text/plain": [
       "<Figure size 432x288 with 1 Axes>"
      ]
     },
     "metadata": {
      "needs_background": "light"
     },
     "output_type": "display_data"
    }
   ],
   "source": [
    "import matplotlib.pyplot as plt\n",
    "from matplotlib import cm\n",
    "from matplotlib.colors import ListedColormap as lcm\n",
    "\n",
    "\n",
    "\n",
    "colors = np.zeros((12, 3))\n",
    "\n",
    "colors[(0, 1, 3, 4, 9, 10), :] = np.array(\n",
    "    cm.get_cmap('tab20').colors)[(1, 16, 15, 14, 6, 2), :]\n",
    "colors[2, :] = np.zeros(3)\n",
    "colors[11, :] = np.ones(3)\n",
    "colors[5:8, :] = np.array(cm.get_cmap('tab20c').colors)[9:12, :]\n",
    "colors[8, :] = np.array(cm.get_cmap('tab20b').colors)[0, :]\n",
    "colors[6, :] = np.array(cm.get_cmap('Accent').colors)[4, :]\n",
    "\n",
    "custom_cm = lcm(colors)\n",
    "\n",
    "plt.imshow(tf.argmax(model.predict(x_tr)[1], axis=2) / (num_classes - 1), cmap = custom_cm)"
   ]
  }
 ],
 "metadata": {
  "interpreter": {
   "hash": "13aec1df21319058b42a1b557b87221d232b7e9e3ea0668ae1b5675bc426f08f"
  },
  "kernelspec": {
   "display_name": "Python 3.9.12 ('tfmacos')",
   "language": "python",
   "name": "python3"
  },
  "language_info": {
   "codemirror_mode": {
    "name": "ipython",
    "version": 3
   },
   "file_extension": ".py",
   "mimetype": "text/x-python",
   "name": "python",
   "nbconvert_exporter": "python",
   "pygments_lexer": "ipython3",
   "version": "3.9.12"
  },
  "orig_nbformat": 4
 },
 "nbformat": 4,
 "nbformat_minor": 2
}
