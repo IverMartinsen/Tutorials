{
 "cells": [
  {
   "cell_type": "code",
   "execution_count": 55,
   "metadata": {},
   "outputs": [
    {
     "name": "stderr",
     "output_type": "stream",
     "text": [
      "C:\\Users\\Iverm\\AppData\\Local\\Temp\\ipykernel_19828\\3385530383.py:11: FutureWarning: Using a non-tuple sequence for multidimensional indexing is deprecated; use `arr[tuple(seq)]` instead of `arr[seq]`. In the future this will be interpreted as an array index, `arr[np.array(seq)]`, which will result either in an error or a different result.\n",
      "  image[np.meshgrid(np.arange(base_point[0], base_point[0] + square_size), np.arange(base_point[1], base_point[1] + square_size))] = 1\n",
      "C:\\Users\\Iverm\\AppData\\Local\\Temp\\ipykernel_19828\\3385530383.py:22: FutureWarning: Using a non-tuple sequence for multidimensional indexing is deprecated; use `arr[tuple(seq)]` instead of `arr[seq]`. In the future this will be interpreted as an array index, `arr[np.array(seq)]`, which will result either in an error or a different result.\n",
      "  self.pixels[np.meshgrid(np.arange(base_point[0], base_point[0] + square_size),\n"
     ]
    },
    {
     "data": {
      "text/plain": [
       "<matplotlib.image.AxesImage at 0x209b8ec6bc0>"
      ]
     },
     "execution_count": 55,
     "metadata": {},
     "output_type": "execute_result"
    },
    {
     "data": {
      "image/png": "[encoded data removed]",
      "text/plain": [
       "<Figure size 432x288 with 1 Axes>"
      ]
     },
     "metadata": {
      "needs_background": "light"
     },
     "output_type": "display_data"
    }
   ],
   "source": [
    "import numpy as np\n",
    "import matplotlib.pyplot as plt\n",
    "\n",
    "image = np.zeros(shape=(128, 128))\n",
    "\n",
    "base_point = (10, 10)\n",
    "\n",
    "# this is a test lines\n",
    "\n",
    "square_size = 10\n",
    "\n",
    "\n",
    "image[np.meshgrid(np.arange(base_point[0], base_point[0] + square_size), np.arange(base_point[1], base_point[1] + square_size))] = 1\n",
    "\n",
    "class SampleImage():\n",
    "    def __init__(self, shape):\n",
    "        self.shape = shape\n",
    "        self.pixels = np.zeros(shape=shape)\n",
    "\n",
    "    def add_squares(self, n):\n",
    "        for i in range(n):\n",
    "            square_size = np.random.choice(np.arange(4, 16))\n",
    "            base_point = np.random.choice(self.shape[0] - square_size), np.random.choice(self.shape[1] - square_size)\n",
    "            self.pixels[np.meshgrid(np.arange(base_point[0], base_point[0] + square_size), \n",
    "            np.arange(base_point[1], base_point[1] + square_size))] = 0.8\n",
    "\n",
    "    def add_circles(self, n):\n",
    "        for i in range(n):\n",
    "            base_point = np.random.choice(self.shape[0]), np.random.choice(self.shape[1])\n",
    "            radius = np.random.choice(np.arange(2, 8))\n",
    "            idx = np.where((np.meshgrid(range(128), range(128))[0] - base_point[0])**2 + (np.meshgrid(range(128), range(128))[1] - base_point[1])**2 < radius**2)\n",
    "            self.pixels[idx] = 0.5\n",
    "\n",
    "image = SampleImage((128, 128))\n",
    "image.add_circles(4)\n",
    "image.add_squares(5)\n",
    "\n",
    "\n",
    "plt.imshow(image.pixels, cmap='gray')\n",
    "\n",
    "\n"
   ]
  }
 ],
 "metadata": {
  "interpreter": {
   "hash": "4cc9d4bc4729ab5a16e3b97a2af446a0f2be641d87d4d6568ca073f9335f1f24"
  },
  "kernelspec": {
   "display_name": "Python 3.10.4 ('python3')",
   "language": "python",
   "name": "python3"
  },
  "language_info": {
   "codemirror_mode": {
    "name": "ipython",
    "version": 3
   },
   "file_extension": ".py",
   "mimetype": "text/x-python",
   "name": "python",
   "nbconvert_exporter": "python",
   "pygments_lexer": "ipython3",
   "version": "3.10.4"
  },
  "orig_nbformat": 4
 },
 "nbformat": 4,
 "nbformat_minor": 2
}
